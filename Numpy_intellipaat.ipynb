{
 "cells": [
  {
   "cell_type": "code",
   "execution_count": 7,
   "id": "b786d801",
   "metadata": {},
   "outputs": [],
   "source": [
    "import numpy as np"
   ]
  },
  {
   "cell_type": "markdown",
   "id": "d40a8209",
   "metadata": {},
   "source": [
    "#### Creating Array"
   ]
  },
  {
   "cell_type": "code",
   "execution_count": 9,
   "id": "3c8b19ba",
   "metadata": {},
   "outputs": [
    {
     "data": {
      "text/plain": [
       "array([1, 2, 3])"
      ]
     },
     "execution_count": 9,
     "metadata": {},
     "output_type": "execute_result"
    }
   ],
   "source": [
    "ar1 = np.array([1,2,3])\n",
    "ar1"
   ]
  },
  {
   "cell_type": "code",
   "execution_count": 10,
   "id": "5fca921c",
   "metadata": {},
   "outputs": [
    {
     "data": {
      "text/plain": [
       "numpy.ndarray"
      ]
     },
     "execution_count": 10,
     "metadata": {},
     "output_type": "execute_result"
    }
   ],
   "source": [
    "type(ar1)"
   ]
  },
  {
   "cell_type": "code",
   "execution_count": 13,
   "id": "7ef01dde",
   "metadata": {},
   "outputs": [
    {
     "data": {
      "text/plain": [
       "1"
      ]
     },
     "execution_count": 13,
     "metadata": {},
     "output_type": "execute_result"
    }
   ],
   "source": [
    "ar1.ndim"
   ]
  },
  {
   "cell_type": "code",
   "execution_count": 19,
   "id": "d29d78de",
   "metadata": {},
   "outputs": [
    {
     "data": {
      "text/plain": [
       "array([[0., 0.],\n",
       "       [0., 0.]])"
      ]
     },
     "execution_count": 19,
     "metadata": {},
     "output_type": "execute_result"
    }
   ],
   "source": [
    "ar2 = np.zeros((2,2) ) #2 rows, 2 columns matrix should be filled with zeroes\n",
    "ar2"
   ]
  },
  {
   "cell_type": "code",
   "execution_count": 14,
   "id": "e680ece7",
   "metadata": {},
   "outputs": [
    {
     "data": {
      "text/plain": [
       "2"
      ]
     },
     "execution_count": 14,
     "metadata": {},
     "output_type": "execute_result"
    }
   ],
   "source": [
    "ar2.ndim # return no.of dimensions array"
   ]
  },
  {
   "cell_type": "code",
   "execution_count": 25,
   "id": "44322583",
   "metadata": {},
   "outputs": [
    {
     "data": {
      "text/plain": [
       "array([[0.89080109, 0.4420096 , 0.91849108],\n",
       "       [0.2244886 , 0.18275159, 0.59180751],\n",
       "       [0.04832671, 0.2145513 , 0.80962155]])"
      ]
     },
     "execution_count": 25,
     "metadata": {},
     "output_type": "execute_result"
    }
   ],
   "source": [
    "np.random.random((3,3))"
   ]
  },
  {
   "cell_type": "code",
   "execution_count": null,
   "id": "e513f189",
   "metadata": {},
   "outputs": [],
   "source": []
  },
  {
   "cell_type": "markdown",
   "id": "c53a7ffd",
   "metadata": {},
   "source": [
    "#### Array Initializatioin"
   ]
  },
  {
   "cell_type": "code",
   "execution_count": 28,
   "id": "e6ea4a88",
   "metadata": {},
   "outputs": [
    {
     "data": {
      "text/plain": [
       "array([[5, 5],\n",
       "       [5, 5]])"
      ]
     },
     "execution_count": 28,
     "metadata": {},
     "output_type": "execute_result"
    }
   ],
   "source": [
    "np.full((2,2),5) # fill the matrix 2,2 with value 5"
   ]
  },
  {
   "cell_type": "code",
   "execution_count": 31,
   "id": "2fb0f098",
   "metadata": {},
   "outputs": [
    {
     "data": {
      "text/plain": [
       "array([ 5,  7,  9, 11, 13, 15, 17, 19])"
      ]
     },
     "execution_count": 31,
     "metadata": {},
     "output_type": "execute_result"
    }
   ],
   "source": [
    "np.arange(5,20,2) # start = 5, end = 20 , interval = 2\n",
    "# end is not going to be included"
   ]
  },
  {
   "cell_type": "code",
   "execution_count": 32,
   "id": "479eaac6",
   "metadata": {},
   "outputs": [
    {
     "data": {
      "text/plain": [
       "array([ 5., 20.])"
      ]
     },
     "execution_count": 32,
     "metadata": {},
     "output_type": "execute_result"
    }
   ],
   "source": [
    "np.linspace(5,20,2) # start = 5, end = 20 , count of digits = 2\n",
    "# generate 2 data points from 5 till 20 with equal intervals in between them"
   ]
  },
  {
   "cell_type": "code",
   "execution_count": 37,
   "id": "4387ca52",
   "metadata": {},
   "outputs": [
    {
     "data": {
      "text/plain": [
       "array([ 5. , 12.5, 20. ])"
      ]
     },
     "execution_count": 37,
     "metadata": {},
     "output_type": "execute_result"
    }
   ],
   "source": [
    "np.linspace(5,20,3)"
   ]
  },
  {
   "cell_type": "markdown",
   "id": "9570722f",
   "metadata": {},
   "source": [
    "#### Array Inspection "
   ]
  },
  {
   "cell_type": "code",
   "execution_count": 40,
   "id": "a1f9fcf3",
   "metadata": {},
   "outputs": [
    {
     "data": {
      "text/plain": [
       "array([[2, 2],\n",
       "       [2, 2],\n",
       "       [2, 2]])"
      ]
     },
     "execution_count": 40,
     "metadata": {},
     "output_type": "execute_result"
    }
   ],
   "source": [
    "ar1 = np.full((3,2),2)\n",
    "ar1"
   ]
  },
  {
   "cell_type": "code",
   "execution_count": 41,
   "id": "c65c00e8",
   "metadata": {},
   "outputs": [
    {
     "data": {
      "text/plain": [
       "(3, 2)"
      ]
     },
     "execution_count": 41,
     "metadata": {},
     "output_type": "execute_result"
    }
   ],
   "source": [
    "ar1.shape # no.of rows and columns 3 rows and 2 columns"
   ]
  },
  {
   "cell_type": "code",
   "execution_count": 42,
   "id": "98488b0f",
   "metadata": {},
   "outputs": [
    {
     "data": {
      "text/plain": [
       "6"
      ]
     },
     "execution_count": 42,
     "metadata": {},
     "output_type": "execute_result"
    }
   ],
   "source": [
    "ar1.size # count no.of elements"
   ]
  },
  {
   "cell_type": "code",
   "execution_count": 44,
   "id": "b66ad64e",
   "metadata": {},
   "outputs": [
    {
     "data": {
      "text/plain": [
       "2"
      ]
     },
     "execution_count": 44,
     "metadata": {},
     "output_type": "execute_result"
    }
   ],
   "source": [
    "ar1.ndim # no.of dimensions"
   ]
  },
  {
   "cell_type": "code",
   "execution_count": 45,
   "id": "dd9a25b9",
   "metadata": {},
   "outputs": [
    {
     "data": {
      "text/plain": [
       "dtype('int32')"
      ]
     },
     "execution_count": 45,
     "metadata": {},
     "output_type": "execute_result"
    }
   ],
   "source": [
    "ar1.dtype"
   ]
  },
  {
   "cell_type": "code",
   "execution_count": 46,
   "id": "086a8368",
   "metadata": {},
   "outputs": [],
   "source": [
    "### Reshape"
   ]
  },
  {
   "cell_type": "code",
   "execution_count": 47,
   "id": "b9abadac",
   "metadata": {},
   "outputs": [
    {
     "data": {
      "text/plain": [
       "array([[2, 2],\n",
       "       [2, 2],\n",
       "       [2, 2]])"
      ]
     },
     "execution_count": 47,
     "metadata": {},
     "output_type": "execute_result"
    }
   ],
   "source": [
    "ar1"
   ]
  },
  {
   "cell_type": "code",
   "execution_count": 48,
   "id": "12e291ac",
   "metadata": {},
   "outputs": [
    {
     "data": {
      "text/plain": [
       "(3, 2)"
      ]
     },
     "execution_count": 48,
     "metadata": {},
     "output_type": "execute_result"
    }
   ],
   "source": [
    "ar1.shape # 3 rows and 2 columns"
   ]
  },
  {
   "cell_type": "code",
   "execution_count": null,
   "id": "b5649b1d",
   "metadata": {},
   "outputs": [],
   "source": [
    "# We have total 6 elements so when changing shape the new shape should incorporate all the elements "
   ]
  },
  {
   "cell_type": "code",
   "execution_count": null,
   "id": "fe13c1a3",
   "metadata": {},
   "outputs": [],
   "source": [
    "# rows * column = ar1.size"
   ]
  },
  {
   "cell_type": "code",
   "execution_count": 54,
   "id": "1cbfe918",
   "metadata": {},
   "outputs": [],
   "source": [
    "ar1.shape = (2,3) # 2 rows and 3 columns"
   ]
  },
  {
   "cell_type": "code",
   "execution_count": 55,
   "id": "a7b92283",
   "metadata": {},
   "outputs": [
    {
     "data": {
      "text/plain": [
       "array([[2, 2, 2, 2, 2, 2]])"
      ]
     },
     "execution_count": 55,
     "metadata": {},
     "output_type": "execute_result"
    }
   ],
   "source": [
    "ar1"
   ]
  },
  {
   "cell_type": "code",
   "execution_count": 56,
   "id": "ebde4f68",
   "metadata": {},
   "outputs": [
    {
     "data": {
      "text/plain": [
       "array([[2],\n",
       "       [2],\n",
       "       [2],\n",
       "       [2],\n",
       "       [2],\n",
       "       [2]])"
      ]
     },
     "execution_count": 56,
     "metadata": {},
     "output_type": "execute_result"
    }
   ],
   "source": [
    "ar1.shape = (6,1) # 6 rows and 1 column\n",
    "ar1"
   ]
  },
  {
   "cell_type": "code",
   "execution_count": 57,
   "id": "53edb19a",
   "metadata": {},
   "outputs": [
    {
     "data": {
      "text/plain": [
       "2"
      ]
     },
     "execution_count": 57,
     "metadata": {},
     "output_type": "execute_result"
    }
   ],
   "source": [
    "ar1.ndim"
   ]
  },
  {
   "cell_type": "code",
   "execution_count": 61,
   "id": "4258daa6",
   "metadata": {},
   "outputs": [],
   "source": [
    "ar1 = np.arange(30)"
   ]
  },
  {
   "cell_type": "code",
   "execution_count": 65,
   "id": "bbe3ada5",
   "metadata": {},
   "outputs": [
    {
     "data": {
      "text/plain": [
       "array([[[ 0,  1,  2],\n",
       "        [ 3,  4,  5],\n",
       "        [ 6,  7,  8],\n",
       "        [ 9, 10, 11],\n",
       "        [12, 13, 14]],\n",
       "\n",
       "       [[15, 16, 17],\n",
       "        [18, 19, 20],\n",
       "        [21, 22, 23],\n",
       "        [24, 25, 26],\n",
       "        [27, 28, 29]]])"
      ]
     },
     "execution_count": 65,
     "metadata": {},
     "output_type": "execute_result"
    }
   ],
   "source": [
    "ar2 = ar1.reshape(2,5,3)\n",
    "ar2"
   ]
  },
  {
   "cell_type": "code",
   "execution_count": 66,
   "id": "c4164fe0",
   "metadata": {},
   "outputs": [
    {
     "data": {
      "text/plain": [
       "3"
      ]
     },
     "execution_count": 66,
     "metadata": {},
     "output_type": "execute_result"
    }
   ],
   "source": [
    "ar2.ndim"
   ]
  },
  {
   "cell_type": "markdown",
   "id": "0d90edc5",
   "metadata": {},
   "source": [
    "#### Array mathematics"
   ]
  },
  {
   "cell_type": "code",
   "execution_count": 79,
   "id": "db8432df",
   "metadata": {},
   "outputs": [
    {
     "data": {
      "text/plain": [
       "array([1, 2, 3])"
      ]
     },
     "execution_count": 79,
     "metadata": {},
     "output_type": "execute_result"
    }
   ],
   "source": [
    "ar1 = np.array([1,2,3])\n",
    "ar1"
   ]
  },
  {
   "cell_type": "code",
   "execution_count": 80,
   "id": "485ddf0c",
   "metadata": {},
   "outputs": [
    {
     "data": {
      "text/plain": [
       "6"
      ]
     },
     "execution_count": 80,
     "metadata": {},
     "output_type": "execute_result"
    }
   ],
   "source": [
    "np.sum(ar1) # add all the elements\n",
    "# 3+2+1"
   ]
  },
  {
   "cell_type": "code",
   "execution_count": 70,
   "id": "73dc896a",
   "metadata": {},
   "outputs": [
    {
     "data": {
      "text/plain": [
       "array([[10,  5],\n",
       "       [ 6,  8]])"
      ]
     },
     "execution_count": 70,
     "metadata": {},
     "output_type": "execute_result"
    }
   ],
   "source": [
    "ar1 = np.array([[10,5],\n",
    "               [6,8]])\n",
    "ar1"
   ]
  },
  {
   "cell_type": "code",
   "execution_count": 75,
   "id": "1225970c",
   "metadata": {},
   "outputs": [
    {
     "data": {
      "text/plain": [
       "array([16, 13])"
      ]
     },
     "execution_count": 75,
     "metadata": {},
     "output_type": "execute_result"
    }
   ],
   "source": [
    "np.sum(ar1,axis = 0) # axis = 0 --> take the sum at row level\n",
    "# 10+6,5+8"
   ]
  },
  {
   "cell_type": "code",
   "execution_count": 76,
   "id": "0b1dfeef",
   "metadata": {},
   "outputs": [
    {
     "data": {
      "text/plain": [
       "array([15, 14])"
      ]
     },
     "execution_count": 76,
     "metadata": {},
     "output_type": "execute_result"
    }
   ],
   "source": [
    "np.sum(ar1,axis = 1) # axis = 0 --> take the sum at column level\n",
    "# 10+5,6+8"
   ]
  },
  {
   "cell_type": "code",
   "execution_count": 82,
   "id": "4d939169",
   "metadata": {},
   "outputs": [],
   "source": [
    "a = 20\n",
    "b = 5"
   ]
  },
  {
   "cell_type": "code",
   "execution_count": 83,
   "id": "78a07ad1",
   "metadata": {},
   "outputs": [
    {
     "name": "stdout",
     "output_type": "stream",
     "text": [
      "15\n"
     ]
    }
   ],
   "source": [
    "print(np.subtract(a,b))"
   ]
  },
  {
   "cell_type": "code",
   "execution_count": 84,
   "id": "9de0fa1d",
   "metadata": {},
   "outputs": [
    {
     "name": "stdout",
     "output_type": "stream",
     "text": [
      "100\n",
      "4.0\n"
     ]
    }
   ],
   "source": [
    "print(np.multiply(a,b))\n",
    "print(np.divide(a,b))"
   ]
  },
  {
   "cell_type": "code",
   "execution_count": 85,
   "id": "2c670cf5",
   "metadata": {},
   "outputs": [
    {
     "name": "stdout",
     "output_type": "stream",
     "text": [
      "485165195.4097903\n",
      "4.47213595499958\n",
      "2.995732273553991\n"
     ]
    }
   ],
   "source": [
    "print(np.exp(a))\n",
    "print(np.sqrt(a))\n",
    "print(np.log(a))"
   ]
  },
  {
   "cell_type": "code",
   "execution_count": 86,
   "id": "2dd393b4",
   "metadata": {},
   "outputs": [],
   "source": [
    "ar1 = np.array([1,2,3])\n",
    "ar2 = np.array([1,2,3])\n",
    "ar3 = np.array([1,2,4])"
   ]
  },
  {
   "cell_type": "code",
   "execution_count": 87,
   "id": "781b876d",
   "metadata": {},
   "outputs": [
    {
     "data": {
      "text/plain": [
       "array([ True,  True,  True])"
      ]
     },
     "execution_count": 87,
     "metadata": {},
     "output_type": "execute_result"
    }
   ],
   "source": [
    "np.equal(ar1,ar2) # it compares at a element wise in sequence "
   ]
  },
  {
   "cell_type": "code",
   "execution_count": 88,
   "id": "d90a5e6d",
   "metadata": {},
   "outputs": [
    {
     "data": {
      "text/plain": [
       "array([ True,  True, False])"
      ]
     },
     "execution_count": 88,
     "metadata": {},
     "output_type": "execute_result"
    }
   ],
   "source": [
    "np.equal(ar1,ar3)"
   ]
  },
  {
   "cell_type": "code",
   "execution_count": 89,
   "id": "16823619",
   "metadata": {},
   "outputs": [
    {
     "data": {
      "text/plain": [
       "True"
      ]
     },
     "execution_count": 89,
     "metadata": {},
     "output_type": "execute_result"
    }
   ],
   "source": [
    "np.array_equal(ar1,ar2) # it compares an entire array"
   ]
  },
  {
   "cell_type": "code",
   "execution_count": 90,
   "id": "9ea3fd6f",
   "metadata": {},
   "outputs": [
    {
     "data": {
      "text/plain": [
       "False"
      ]
     },
     "execution_count": 90,
     "metadata": {},
     "output_type": "execute_result"
    }
   ],
   "source": [
    "np.array_equal(ar1,ar3)"
   ]
  },
  {
   "cell_type": "markdown",
   "id": "0629dd25",
   "metadata": {},
   "source": [
    "#### Array Indexing"
   ]
  },
  {
   "cell_type": "code",
   "execution_count": 92,
   "id": "47684c62",
   "metadata": {},
   "outputs": [
    {
     "data": {
      "text/plain": [
       "array([10, 20, 30, 40, 50])"
      ]
     },
     "execution_count": 92,
     "metadata": {},
     "output_type": "execute_result"
    }
   ],
   "source": [
    "ar1 = np.array([10,20,30,40,50])\n",
    "ar1"
   ]
  },
  {
   "cell_type": "code",
   "execution_count": 93,
   "id": "2dd8226b",
   "metadata": {},
   "outputs": [
    {
     "data": {
      "text/plain": [
       "array([20, 30, 40])"
      ]
     },
     "execution_count": 93,
     "metadata": {},
     "output_type": "execute_result"
    }
   ],
   "source": [
    "ar1[1:4]"
   ]
  },
  {
   "cell_type": "code",
   "execution_count": 97,
   "id": "94ffe156",
   "metadata": {},
   "outputs": [
    {
     "name": "stdout",
     "output_type": "stream",
     "text": [
      "[['a' 'b' 'c' '10']\n",
      " ['d' 'e' 'f' '20']\n",
      " ['g' 'h' 'i' '30']\n",
      " ['j' 'k' 'l' '40']]\n"
     ]
    }
   ],
   "source": [
    "ar1 = np.array([['a','b','c','10'],\n",
    "               ['d','e','f','20'],\n",
    "               ['g','h','i','30'],\n",
    "               ['j','k','l','40']])\n",
    "print(ar1)"
   ]
  },
  {
   "cell_type": "code",
   "execution_count": 107,
   "id": "ee09fca1",
   "metadata": {},
   "outputs": [
    {
     "data": {
      "text/plain": [
       "array([['g', 'h', 'i'],\n",
       "       ['j', 'k', 'l']], dtype='<U2')"
      ]
     },
     "execution_count": 107,
     "metadata": {},
     "output_type": "execute_result"
    }
   ],
   "source": [
    "ar1[2:4,0:3]"
   ]
  },
  {
   "cell_type": "code",
   "execution_count": 100,
   "id": "5d00fc12",
   "metadata": {},
   "outputs": [
    {
     "data": {
      "text/plain": [
       "array(['g', 'h', 'i', '30'], dtype='<U2')"
      ]
     },
     "execution_count": 100,
     "metadata": {},
     "output_type": "execute_result"
    }
   ],
   "source": [
    "ar1[2]"
   ]
  },
  {
   "cell_type": "code",
   "execution_count": 101,
   "id": "64835799",
   "metadata": {},
   "outputs": [
    {
     "data": {
      "text/plain": [
       "array([['d', 'e', 'f', '20']], dtype='<U2')"
      ]
     },
     "execution_count": 101,
     "metadata": {},
     "output_type": "execute_result"
    }
   ],
   "source": [
    "ar1[1:2] # start = 1, end-1 = 2-1  = 1 "
   ]
  },
  {
   "cell_type": "code",
   "execution_count": 102,
   "id": "6e8d31a0",
   "metadata": {},
   "outputs": [
    {
     "data": {
      "text/plain": [
       "array([['d', 'e', 'f', '20'],\n",
       "       ['g', 'h', 'i', '30']], dtype='<U2')"
      ]
     },
     "execution_count": 102,
     "metadata": {},
     "output_type": "execute_result"
    }
   ],
   "source": [
    "ar1[1:3]"
   ]
  },
  {
   "cell_type": "code",
   "execution_count": 104,
   "id": "f74bf35e",
   "metadata": {},
   "outputs": [
    {
     "data": {
      "text/plain": [
       "array(['b', 'e', 'h', 'k'], dtype='<U2')"
      ]
     },
     "execution_count": 104,
     "metadata": {},
     "output_type": "execute_result"
    }
   ],
   "source": [
    "ar1[:,1] # 1 st column "
   ]
  },
  {
   "cell_type": "code",
   "execution_count": 105,
   "id": "77d316bf",
   "metadata": {},
   "outputs": [
    {
     "data": {
      "text/plain": [
       "array([['b'],\n",
       "       ['e'],\n",
       "       ['h'],\n",
       "       ['k']], dtype='<U2')"
      ]
     },
     "execution_count": 105,
     "metadata": {},
     "output_type": "execute_result"
    }
   ],
   "source": [
    "ar1[:,1:2]"
   ]
  },
  {
   "cell_type": "code",
   "execution_count": 106,
   "id": "3bda3f1d",
   "metadata": {},
   "outputs": [
    {
     "data": {
      "text/plain": [
       "array([['b', 'c'],\n",
       "       ['e', 'f'],\n",
       "       ['h', 'i'],\n",
       "       ['k', 'l']], dtype='<U2')"
      ]
     },
     "execution_count": 106,
     "metadata": {},
     "output_type": "execute_result"
    }
   ],
   "source": [
    "ar1[:,1:3]"
   ]
  },
  {
   "cell_type": "code",
   "execution_count": 98,
   "id": "50cbf28f",
   "metadata": {
    "scrolled": true
   },
   "outputs": [
    {
     "data": {
      "text/plain": [
       "array([['e', 'f'],\n",
       "       ['h', 'i']], dtype='<U2')"
      ]
     },
     "execution_count": 98,
     "metadata": {},
     "output_type": "execute_result"
    }
   ],
   "source": [
    "ar1[1:3,1:3]"
   ]
  },
  {
   "cell_type": "code",
   "execution_count": null,
   "id": "fc0c5f5a",
   "metadata": {},
   "outputs": [],
   "source": []
  },
  {
   "cell_type": "markdown",
   "id": "cf18c725",
   "metadata": {},
   "source": [
    "#### Array Manipulation"
   ]
  },
  {
   "cell_type": "code",
   "execution_count": 109,
   "id": "dc4396fc",
   "metadata": {},
   "outputs": [],
   "source": [
    "ar1 = np.array([[1,2],[3,4]])\n",
    "ar2 = np.array([[10,20],[30,40]])"
   ]
  },
  {
   "cell_type": "code",
   "execution_count": 110,
   "id": "deb83d2f",
   "metadata": {},
   "outputs": [
    {
     "name": "stdout",
     "output_type": "stream",
     "text": [
      "[[1 2]\n",
      " [3 4]]\n",
      "[[10 20]\n",
      " [30 40]]\n"
     ]
    }
   ],
   "source": [
    "print(ar1)\n",
    "print(ar2)"
   ]
  },
  {
   "cell_type": "code",
   "execution_count": 114,
   "id": "3a40bed3",
   "metadata": {},
   "outputs": [
    {
     "data": {
      "text/plain": [
       "array([[ 1,  2],\n",
       "       [ 3,  4],\n",
       "       [10, 20],\n",
       "       [30, 40]])"
      ]
     },
     "execution_count": 114,
     "metadata": {},
     "output_type": "execute_result"
    }
   ],
   "source": [
    "np.concatenate((ar1,ar2), axis = 0) # 0 for rows \n",
    "                                    # 1 for columns "
   ]
  },
  {
   "cell_type": "code",
   "execution_count": 115,
   "id": "87ed92b4",
   "metadata": {},
   "outputs": [
    {
     "data": {
      "text/plain": [
       "array([[ 1,  2, 10, 20],\n",
       "       [ 3,  4, 30, 40]])"
      ]
     },
     "execution_count": 115,
     "metadata": {},
     "output_type": "execute_result"
    }
   ],
   "source": [
    "np.concatenate((ar1,ar2), axis = 1) "
   ]
  },
  {
   "cell_type": "code",
   "execution_count": 116,
   "id": "0d36bb72",
   "metadata": {},
   "outputs": [
    {
     "data": {
      "text/plain": [
       "array([[ 1,  2],\n",
       "       [ 3,  4],\n",
       "       [10, 20],\n",
       "       [30, 40]])"
      ]
     },
     "execution_count": 116,
     "metadata": {},
     "output_type": "execute_result"
    }
   ],
   "source": [
    "np.vstack((ar1,ar2)) # np.concatenate axis = 0 "
   ]
  },
  {
   "cell_type": "code",
   "execution_count": 117,
   "id": "256d8455",
   "metadata": {},
   "outputs": [
    {
     "data": {
      "text/plain": [
       "array([[ 1,  2, 10, 20],\n",
       "       [ 3,  4, 30, 40]])"
      ]
     },
     "execution_count": 117,
     "metadata": {},
     "output_type": "execute_result"
    }
   ],
   "source": [
    "np.hstack((ar1,ar2)) # np.concatenate axis = 1"
   ]
  },
  {
   "cell_type": "code",
   "execution_count": 118,
   "id": "931d8811",
   "metadata": {},
   "outputs": [
    {
     "data": {
      "text/plain": [
       "array([[ 1,  2, 10, 20],\n",
       "       [ 3,  4, 30, 40]])"
      ]
     },
     "execution_count": 118,
     "metadata": {},
     "output_type": "execute_result"
    }
   ],
   "source": [
    "np.column_stack((ar1,ar2))"
   ]
  },
  {
   "cell_type": "code",
   "execution_count": 119,
   "id": "c6b8f750",
   "metadata": {},
   "outputs": [
    {
     "data": {
      "text/plain": [
       "array([[ 1,  2, 10, 20,  1,  2],\n",
       "       [ 3,  4, 30, 40,  3,  4]])"
      ]
     },
     "execution_count": 119,
     "metadata": {},
     "output_type": "execute_result"
    }
   ],
   "source": [
    "ar2 = np.hstack((ar1,ar2,ar1))\n",
    "ar2"
   ]
  },
  {
   "cell_type": "code",
   "execution_count": 125,
   "id": "8d9e1bf1",
   "metadata": {},
   "outputs": [
    {
     "data": {
      "text/plain": [
       "[array([[ 1,  2, 10],\n",
       "        [ 3,  4, 30]]),\n",
       " array([[20,  1,  2],\n",
       "        [40,  3,  4]])]"
      ]
     },
     "execution_count": 125,
     "metadata": {},
     "output_type": "execute_result"
    }
   ],
   "source": [
    "np.hsplit(ar2,2)"
   ]
  },
  {
   "cell_type": "code",
   "execution_count": null,
   "id": "1a9fdceb",
   "metadata": {},
   "outputs": [],
   "source": []
  },
  {
   "cell_type": "code",
   "execution_count": null,
   "id": "7b257c74",
   "metadata": {},
   "outputs": [],
   "source": []
  },
  {
   "cell_type": "code",
   "execution_count": null,
   "id": "f142681f",
   "metadata": {},
   "outputs": [],
   "source": []
  }
 ],
 "metadata": {
  "kernelspec": {
   "display_name": "Python 3 (ipykernel)",
   "language": "python",
   "name": "python3"
  },
  "language_info": {
   "codemirror_mode": {
    "name": "ipython",
    "version": 3
   },
   "file_extension": ".py",
   "mimetype": "text/x-python",
   "name": "python",
   "nbconvert_exporter": "python",
   "pygments_lexer": "ipython3",
   "version": "3.9.12"
  }
 },
 "nbformat": 4,
 "nbformat_minor": 5
}
